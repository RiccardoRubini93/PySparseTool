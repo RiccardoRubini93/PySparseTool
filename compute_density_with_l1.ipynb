{
 "cells": [
  {
   "cell_type": "code",
   "execution_count": 1,
   "metadata": {},
   "outputs": [],
   "source": [
    "using PyPlot; pygui(true);"
   ]
  },
  {
   "cell_type": "code",
   "execution_count": 2,
   "metadata": {},
   "outputs": [],
   "source": [
    "alpha = readdlm(\"plotting_data_90/alpha.txt\");\n",
    "rho   = readdlm(\"plotting_data_90/density.txt\");\n",
    "beta  = readdlm(\"plotting_data_90/beta.txt\");\n",
    "L2_mean = readdlm(\"plotting_data_90/L2_mean.txt\");"
   ]
  },
  {
   "cell_type": "code",
   "execution_count": 3,
   "metadata": {},
   "outputs": [],
   "source": [
    "#compute density with the l1 norm\n",
    "\n",
    "rho_l1 = []\n",
    "\n",
    "for i = 1:length(alpha)\n",
    "   \n",
    "    tmp = norm(beta[:,i],1)/norm(beta[:,1],1)\n",
    "    push!(rho_l1,tmp)\n",
    "    \n",
    "end\n"
   ]
  },
  {
   "cell_type": "code",
   "execution_count": 16,
   "metadata": {},
   "outputs": [
    {
     "data": {
      "text/plain": [
       "PyObject <matplotlib.legend.Legend object at 0x7f9404787278>"
      ]
     },
     "execution_count": 16,
     "metadata": {},
     "output_type": "execute_result"
    }
   ],
   "source": [
    "figure(1)\n",
    "\n",
    "clf()\n",
    "\n",
    "semilogx(alpha,rho,\"r-\",lw=2,label=L\"ρ\")\n",
    "semilogx(alpha,rho_l1,\"k--\",lw=2,label=L\"\\frac{||β||_1}{||β_{full}||_1}\")\n",
    "axvspan(1e-9, 1e-7, color=\"k\", alpha=0.1, lw=0)\n",
    "xlabel(\"γ\",fontsize=12)\n",
    "legend()"
   ]
  },
  {
   "cell_type": "code",
   "execution_count": 5,
   "metadata": {},
   "outputs": [
    {
     "data": {
      "text/plain": [
       "1-element Array{PyCall.PyObject,1}:\n",
       " PyObject <matplotlib.lines.Line2D object at 0x7f9404adff98>"
      ]
     },
     "execution_count": 5,
     "metadata": {},
     "output_type": "execute_result"
    }
   ],
   "source": [
    "figure(2)\n",
    "\n",
    "clf()\n",
    "\n",
    "plot(rho,L2_mean,\"r-s\")\n",
    "plot(rho_l1,L2_mean,\"k--o\")"
   ]
  },
  {
   "cell_type": "code",
   "execution_count": 17,
   "metadata": {},
   "outputs": [
    {
     "data": {
      "text/plain": [
       "1-element Array{PyCall.PyObject,1}:\n",
       " PyObject <matplotlib.lines.Line2D object at 0x7f94049adef0>"
      ]
     },
     "execution_count": 17,
     "metadata": {},
     "output_type": "execute_result"
    }
   ],
   "source": [
    "figure(3)\n",
    "plot(rho,rho_l1)"
   ]
  },
  {
   "cell_type": "code",
   "execution_count": null,
   "metadata": {},
   "outputs": [],
   "source": []
  }
 ],
 "metadata": {
  "kernelspec": {
   "display_name": "Julia 0.6.0",
   "language": "julia",
   "name": "julia-0.6"
  },
  "language_info": {
   "file_extension": ".jl",
   "mimetype": "application/julia",
   "name": "julia",
   "version": "0.6.0"
  }
 },
 "nbformat": 4,
 "nbformat_minor": 2
}

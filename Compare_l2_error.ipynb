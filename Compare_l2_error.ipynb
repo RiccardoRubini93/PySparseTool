{
 "cells": [
  {
   "cell_type": "code",
   "execution_count": 1,
   "metadata": {},
   "outputs": [],
   "source": [
    "using PyPlot; pygui(true);"
   ]
  },
  {
   "cell_type": "code",
   "execution_count": 2,
   "metadata": {},
   "outputs": [],
   "source": [
    "#load data form folders\n",
    "\n",
    "rho_90 = readdlm(\"plotting_data_90/density.txt\")\n",
    "rho_95 = readdlm(\"plotting_data_95/density.txt\")\n",
    "rho_99 = readdlm(\"plotting_data_99/density.txt\")\n",
    "\n",
    "L2_90 = readdlm(\"plotting_data_90/L2_mean.txt\")\n",
    "L2_95 = readdlm(\"plotting_data_95/L2_mean.txt\")\n",
    "L2_99 = readdlm(\"plotting_data_99/L2_mean.txt\");\n"
   ]
  },
  {
   "cell_type": "code",
   "execution_count": 8,
   "metadata": {},
   "outputs": [
    {
     "data": {
      "text/plain": [
       "1-element Array{PyCall.PyObject,1}:\n",
       " PyObject <matplotlib.lines.Line2D object at 0x7f38634e7ac8>"
      ]
     },
     "execution_count": 8,
     "metadata": {},
     "output_type": "execute_result"
    }
   ],
   "source": [
    "figure(1,figsize=(6,4))\n",
    "\n",
    "plot(rho_90,L2_90,\"k-\")\n",
    "plot(rho_95,L2_95,\"r--\")"
   ]
  },
  {
   "cell_type": "markdown",
   "metadata": {},
   "source": [
    "comparison between two different definitions of lambda"
   ]
  },
  {
   "cell_type": "code",
   "execution_count": 4,
   "metadata": {},
   "outputs": [],
   "source": [
    "rho        = readdlm(\"plotting_data_95/density.txt\")\n",
    "rho_renorm = readdlm(\"plotting_data_95_renorm/density.txt\")\n",
    "\n",
    "L2        = readdlm(\"plotting_data_95/L2_mean.txt\")\n",
    "L2_renorm = readdlm(\"plotting_data_95_renorm/L2_mean.txt\");"
   ]
  },
  {
   "cell_type": "code",
   "execution_count": 5,
   "metadata": {},
   "outputs": [],
   "source": [
    "L2_        = readdlm(\"plotting_data_95/L2.txt\")\n",
    "L2_renorm_ = readdlm(\"plotting_data_95_renorm/L2.txt\");"
   ]
  },
  {
   "cell_type": "code",
   "execution_count": 9,
   "metadata": {},
   "outputs": [
    {
     "data": {
      "text/plain": [
       "PyObject <matplotlib.legend.Legend object at 0x7f386346f898>"
      ]
     },
     "execution_count": 9,
     "metadata": {},
     "output_type": "execute_result"
    }
   ],
   "source": [
    "figure(2,figsize=(6,4))\n",
    "\n",
    "plot(rho,L2,\"k-\",label=L\"λ = \\tilde{λ}\")\n",
    "plot(rho_renorm,L2_renorm,\"r--\",label=L\"λ = λ_{eff}\")\n",
    "legend()"
   ]
  },
  {
   "cell_type": "code",
   "execution_count": 10,
   "metadata": {},
   "outputs": [
    {
     "data": {
      "text/plain": [
       "PyObject <matplotlib.legend.Legend object at 0x7f3863449470>"
      ]
     },
     "execution_count": 10,
     "metadata": {},
     "output_type": "execute_result"
    }
   ],
   "source": [
    "figure(3,figsize=(6,4))\n",
    "\n",
    "plot(rho,L2_,\"k-\",label=L\"λ = \\tilde{λ}\")\n",
    "plot(rho_renorm,L2_renorm_,\"r--\",label=L\"λ = λ_{eff}\")\n",
    "legend()"
   ]
  },
  {
   "cell_type": "code",
   "execution_count": 4,
   "metadata": {},
   "outputs": [],
   "source": [
    "dadt = readdlm(\"Data/a_dot.txt\");\n",
    "a    = readdlm(\"Data/a.txt\");"
   ]
  },
  {
   "cell_type": "code",
   "execution_count": 5,
   "metadata": {},
   "outputs": [],
   "source": [
    "dadt_norm = []\n",
    "a_norm = []\n",
    "\n",
    "for i = 1:size(dadt)[2]\n",
    "    push!(dadt_norm,vecnorm(dadt[:,i],2))\n",
    "    push!(a_norm,vecnorm(a[:,i],2))\n",
    "end\n",
    "\n"
   ]
  },
  {
   "cell_type": "code",
   "execution_count": 6,
   "metadata": {},
   "outputs": [
    {
     "data": {
      "text/plain": [
       "1-element Array{PyCall.PyObject,1}:\n",
       " PyObject <matplotlib.lines.Line2D object at 0x7f70fc2a4da0>"
      ]
     },
     "execution_count": 6,
     "metadata": {},
     "output_type": "execute_result"
    }
   ],
   "source": [
    "figure(3)\n",
    "plot(dadt_norm,\"k-\",lw=3)\n",
    "plot(a_norm,\"r-\",lw=3)\n",
    "\n",
    "plot(dadt_norm[1:15],\"g--s\",lw=1)\n",
    "plot(a_norm[1:15],\"b--o\",lw=1)"
   ]
  },
  {
   "cell_type": "code",
   "execution_count": 8,
   "metadata": {},
   "outputs": [],
   "source": [
    "alpha_r   = readdlm(\"plotting_data_90_renorm/alpha.txt\");\n",
    "alpha = readdlm(\"plotting_data_90/alpha.txt\");"
   ]
  },
  {
   "cell_type": "code",
   "execution_count": 9,
   "metadata": {},
   "outputs": [
    {
     "data": {
      "text/plain": [
       "1-element Array{PyCall.PyObject,1}:\n",
       " PyObject <matplotlib.lines.Line2D object at 0x7f70fc1d02e8>"
      ]
     },
     "execution_count": 9,
     "metadata": {},
     "output_type": "execute_result"
    }
   ],
   "source": [
    "figure(4)\n",
    "plot(alpha,\"r\")\n",
    "plot(alpha_r,\"k--\")"
   ]
  },
  {
   "cell_type": "code",
   "execution_count": null,
   "metadata": {},
   "outputs": [],
   "source": []
  }
 ],
 "metadata": {
  "kernelspec": {
   "display_name": "Julia 0.6.0",
   "language": "julia",
   "name": "julia-0.6"
  },
  "language_info": {
   "file_extension": ".jl",
   "mimetype": "application/julia",
   "name": "julia",
   "version": "0.6.0"
  }
 },
 "nbformat": 4,
 "nbformat_minor": 2
}
